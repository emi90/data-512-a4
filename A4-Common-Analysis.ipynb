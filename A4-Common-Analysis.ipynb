{
 "cells": [
  {
   "cell_type": "code",
   "execution_count": 1,
   "metadata": {},
   "outputs": [],
   "source": [
    "import pandas as pd\n",
    "import numpy as np\n",
    "\n",
    "import os\n",
    "from zipfile import ZipFile\n",
    "\n",
    "import requests\n",
    "import json\n",
    "\n",
    "import matplotlib.pyplot as plt\n",
    "%matplotlib inline"
   ]
  },
  {
   "cell_type": "markdown",
   "metadata": {},
   "source": [
    "## Step 0: "
   ]
  },
  {
   "cell_type": "markdown",
   "metadata": {},
   "source": [
    "This analysis research question will require several different datasets: \n",
    "\n",
    "1. The `RAW_us_confirmed_cases.csv` file from the [Kaggle repository](https://www.kaggle.com/antgoldbloom/covid19-data-from-john-hopkins-university?select=RAW_us_confirmed_cases.csv) of John Hopkins University COVID-19 data.\n",
    "2. The [CDC dataset](https://data.cdc.gov/Policy-Surveillance/U-S-State-and-Territorial-Public-Mask-Mandates-Fro/62d6-pm5i) of masking mandates by county.\n",
    "3. The New York Times [mask compliance survey data](https://github.com/nytimes/covid-19-data/tree/master/mask-use).  \n",
    "\n",
    "The majority of this data is by US County by Day. The mask compliance is a single shot estimator that gives you a compliance estimate for every County in the US. You should carefully review the data descriptions that accompany these datasets. They each have some interesting caveats. As well, some of them are explicit with regard to the way you should interpret missing data.  \n",
    "\n",
    "Lastly, you have been assigned a specific US County for analysis. You are NOT analyzing the entire dataset. You have been assigned one US County that forms the basis for your individual analysis. You can find your individual US County assignment from this Google spreadsheet."
   ]
  },
  {
   "cell_type": "markdown",
   "metadata": {},
   "source": [
    "###### Setup- specify county of interest\n",
    "Assigned Montgomery County in Maryland"
   ]
  },
  {
   "cell_type": "code",
   "execution_count": 2,
   "metadata": {},
   "outputs": [],
   "source": [
    "# setup- county of interest\n",
    "# Montgomery, MD\n",
    "\n",
    "\n",
    "state = 'Maryland'\n",
    "st = 'MD'\n",
    "county = 'Montgomery'"
   ]
  },
  {
   "cell_type": "markdown",
   "metadata": {},
   "source": [
    "###### Get Cases data"
   ]
  },
  {
   "cell_type": "code",
   "execution_count": 3,
   "metadata": {},
   "outputs": [
    {
     "data": {
      "text/plain": [
       "'C:\\\\Users\\\\admin\\\\Documents\\\\UW\\\\DATA512\\\\Assignments\\\\A4'"
      ]
     },
     "execution_count": 3,
     "metadata": {},
     "output_type": "execute_result"
    }
   ],
   "source": [
    "# Unzip cases file\n",
    "\n",
    "os.chdir('data_raw')\n",
    "\n",
    "with ZipFile('RAW_us_confirmed_cases.csv.zip') as zipfiles:\n",
    "    zipfiles.extractall()\n",
    "    \n",
    "os.chdir('..')\n",
    "\n",
    "os.getcwd()"
   ]
  },
  {
   "cell_type": "code",
   "execution_count": 4,
   "metadata": {},
   "outputs": [
    {
     "data": {
      "text/plain": [
       "Index(['Province_State', 'Admin2', 'UID', 'iso2', 'iso3', 'code3', 'FIPS',\n",
       "       'Country_Region', 'Lat', 'Long_',\n",
       "       ...\n",
       "       '10/23/21', '10/24/21', '10/25/21', '10/26/21', '10/27/21', '10/28/21',\n",
       "       '10/29/21', '10/30/21', '10/31/21', '11/1/21'],\n",
       "      dtype='object', length=661)"
      ]
     },
     "execution_count": 4,
     "metadata": {},
     "output_type": "execute_result"
    }
   ],
   "source": [
    "# load cases data\n",
    "\n",
    "raw = pd.read_csv('data_raw/RAW_us_confirmed_cases.csv')\n",
    "\n",
    "raw.columns"
   ]
  },
  {
   "cell_type": "markdown",
   "metadata": {},
   "source": [
    "###### Get Mask policy data"
   ]
  },
  {
   "cell_type": "code",
   "execution_count": 5,
   "metadata": {},
   "outputs": [
    {
     "data": {
      "text/plain": [
       "(493, 10)"
      ]
     },
     "execution_count": 5,
     "metadata": {},
     "output_type": "execute_result"
    }
   ],
   "source": [
    "# get mask policy data\n",
    "\n",
    "'https://data.cdc.gov/resource/62d6-pm5i.json?state_tribe_territory=TX&county'\n",
    "\n",
    "base_url = 'https://data.cdc.gov/resource/62d6-pm5i.json?state_tribe_territory={st}&county_name={county}'\n",
    "\n",
    "params = {\n",
    "    'st' : st,\n",
    "    'county' : county + ' County'\n",
    "}\n",
    "mask_url = base_url.format(**params)\n",
    "masks_json = requests.get(mask_url).json()\n",
    "\n",
    "masks_df = pd.DataFrame.from_dict(masks_json)\n",
    "masks_df.shape"
   ]
  },
  {
   "cell_type": "markdown",
   "metadata": {},
   "source": [
    "###### Get mask compliance data"
   ]
  },
  {
   "cell_type": "code",
   "execution_count": 6,
   "metadata": {},
   "outputs": [
    {
     "data": {
      "text/html": [
       "<div>\n",
       "<style scoped>\n",
       "    .dataframe tbody tr th:only-of-type {\n",
       "        vertical-align: middle;\n",
       "    }\n",
       "\n",
       "    .dataframe tbody tr th {\n",
       "        vertical-align: top;\n",
       "    }\n",
       "\n",
       "    .dataframe thead th {\n",
       "        text-align: right;\n",
       "    }\n",
       "</style>\n",
       "<table border=\"1\" class=\"dataframe\">\n",
       "  <thead>\n",
       "    <tr style=\"text-align: right;\">\n",
       "      <th></th>\n",
       "      <th>COUNTYFP</th>\n",
       "      <th>NEVER</th>\n",
       "      <th>RARELY</th>\n",
       "      <th>SOMETIMES</th>\n",
       "      <th>FREQUENTLY</th>\n",
       "      <th>ALWAYS</th>\n",
       "    </tr>\n",
       "  </thead>\n",
       "  <tbody>\n",
       "    <tr>\n",
       "      <th>0</th>\n",
       "      <td>1001</td>\n",
       "      <td>0.053</td>\n",
       "      <td>0.074</td>\n",
       "      <td>0.134</td>\n",
       "      <td>0.295</td>\n",
       "      <td>0.444</td>\n",
       "    </tr>\n",
       "    <tr>\n",
       "      <th>1</th>\n",
       "      <td>1003</td>\n",
       "      <td>0.083</td>\n",
       "      <td>0.059</td>\n",
       "      <td>0.098</td>\n",
       "      <td>0.323</td>\n",
       "      <td>0.436</td>\n",
       "    </tr>\n",
       "    <tr>\n",
       "      <th>2</th>\n",
       "      <td>1005</td>\n",
       "      <td>0.067</td>\n",
       "      <td>0.121</td>\n",
       "      <td>0.120</td>\n",
       "      <td>0.201</td>\n",
       "      <td>0.491</td>\n",
       "    </tr>\n",
       "    <tr>\n",
       "      <th>3</th>\n",
       "      <td>1007</td>\n",
       "      <td>0.020</td>\n",
       "      <td>0.034</td>\n",
       "      <td>0.096</td>\n",
       "      <td>0.278</td>\n",
       "      <td>0.572</td>\n",
       "    </tr>\n",
       "    <tr>\n",
       "      <th>4</th>\n",
       "      <td>1009</td>\n",
       "      <td>0.053</td>\n",
       "      <td>0.114</td>\n",
       "      <td>0.180</td>\n",
       "      <td>0.194</td>\n",
       "      <td>0.459</td>\n",
       "    </tr>\n",
       "  </tbody>\n",
       "</table>\n",
       "</div>"
      ],
      "text/plain": [
       "   COUNTYFP  NEVER  RARELY  SOMETIMES  FREQUENTLY  ALWAYS\n",
       "0      1001  0.053   0.074      0.134       0.295   0.444\n",
       "1      1003  0.083   0.059      0.098       0.323   0.436\n",
       "2      1005  0.067   0.121      0.120       0.201   0.491\n",
       "3      1007  0.020   0.034      0.096       0.278   0.572\n",
       "4      1009  0.053   0.114      0.180       0.194   0.459"
      ]
     },
     "execution_count": 6,
     "metadata": {},
     "output_type": "execute_result"
    }
   ],
   "source": [
    "# get mask compliance data\n",
    "\n",
    "compliance_url = 'https://raw.githubusercontent.com/nytimes/covid-19-data/master/mask-use/mask-use-by-county.csv'\n",
    "compliance_df = pd.read_csv(compliance_url)\n",
    "\n",
    "compliance_df.head()"
   ]
  },
  {
   "cell_type": "markdown",
   "metadata": {},
   "source": [
    "##### Filter based on given county"
   ]
  },
  {
   "cell_type": "code",
   "execution_count": 7,
   "metadata": {},
   "outputs": [],
   "source": [
    "# filter\n",
    "\n",
    "cases_filter = raw.loc[(raw.Province_State==state) & (raw.Admin2==county)].copy().reset_index(drop=True)\n",
    "\n",
    "fips_county = int('10' + masks_df.fips_county[0])\n",
    "\n",
    "compliance_filter = compliance_df.loc[compliance_df.COUNTYFP==fips_county].copy().reset_index(drop=True)"
   ]
  },
  {
   "cell_type": "markdown",
   "metadata": {},
   "source": [
    "## Step 1: Analyze"
   ]
  },
  {
   "cell_type": "markdown",
   "metadata": {},
   "source": [
    "The common question that you are to answer is:\n",
    "\n",
    "- How did masking policies change the progression of confirmed COVID-19 cases from February 1, 2020 through October 15, 2021?  \n",
    "\n",
    "Answering this question can be a little tricky - and it will be useful for you all (whole class) to discuss this on Slack. We will also spend some time in class on this discussion. Some of the issues that you probably should consider when conducting your analysis include:\n",
    "1. What needs to be cleaned and standardized over the three datasets?\n",
    "2. There is a delay between the time of infection and the time a case is confirmed. Many factors may contribute to such delay. People may not show symptoms right away after infection. It may take a few days for the testing results to become available especially during the early period of the pandemic. Should we model the delay?\n",
    "3. Masking may simply make it longer to get infected or it may prevent some percentage of infection. How should we consider the effect of a mask?\n",
    "4. The research question is about how a time series changes. The infection time series is a set of slopes. Therefore the question is about a derivative function. That is, you want to answer a question about the change in slope over time. How can we test the difference in the derivative function?\n",
    "5. Masking survey data shows probability of compliance in several categories. How can we model different proportions for population compliance?\n",
    "6. Masking policies varied in their implementation (e.g., size of “crowd” required, different situations, restaurants, bars, clubs ...). How should I handle things when my County implemented two different policies at different times?\n",
    "7. The County I was assigned did not implement a masking policy! What is a reasonable way to answer this question? That is, how might I model “voluntary” masking?\n",
    "8. Vaccinations probably impacted the apparent effectiveness of masks. How should we account for different vaccination rates in different populations within the same County?  "
   ]
  },
  {
   "cell_type": "markdown",
   "metadata": {},
   "source": [
    "We note that we did not enumerate all potential issues that you may want to discuss. Further, there are some better and worse ways to handle these questions. We are not looking for the one right answer. We are looking for reasonable solutions. There are aspects of this problem that are very hard to model - and so you will probably want to make simplifying assumptions. For example, you might decide to ignore the impacts of vaccinations or consider pre-vaccine availability as one time series and post-vaccine availability as a totally different time series. "
   ]
  },
  {
   "cell_type": "markdown",
   "metadata": {},
   "source": [
    "###### Define additional datapoints that are initially given"
   ]
  },
  {
   "cell_type": "code",
   "execution_count": 8,
   "metadata": {},
   "outputs": [],
   "source": [
    "# additional data\n",
    "\n",
    "pop = 1062061 # given\n",
    "sq_mi = 491.25 # given\n",
    "sq_km = 1272.34 # given"
   ]
  },
  {
   "cell_type": "markdown",
   "metadata": {},
   "source": [
    "##### Cases dataset"
   ]
  },
  {
   "cell_type": "code",
   "execution_count": 9,
   "metadata": {},
   "outputs": [],
   "source": [
    "# cases have dates in columns- transpose to have each entry as rows\n",
    "# also convert dates to datetime\n",
    "\n",
    "cases = cases_filter[cases_filter.columns[11:]].T.reset_index().rename(columns={'index':'date', 0:'cases'})\n",
    "\n",
    "cases.date = pd.to_datetime(cases.date)"
   ]
  },
  {
   "cell_type": "code",
   "execution_count": 10,
   "metadata": {},
   "outputs": [
    {
     "data": {
      "text/plain": [
       "<AxesSubplot:xlabel='date'>"
      ]
     },
     "execution_count": 10,
     "metadata": {},
     "output_type": "execute_result"
    },
    {
     "data": {
      "image/png": "[encoded data removed]",
      "text/plain": [
       "<Figure size 432x288 with 1 Axes>"
      ]
     },
     "metadata": {
      "needs_background": "light"
     },
     "output_type": "display_data"
    }
   ],
   "source": [
    "#quick visualization\n",
    "\n",
    "cases.plot(x='date', y='cases')"
   ]
  },
  {
   "cell_type": "code",
   "execution_count": 11,
   "metadata": {},
   "outputs": [
    {
     "data": {
      "text/plain": [
       "<AxesSubplot:xlabel='date'>"
      ]
     },
     "execution_count": 11,
     "metadata": {},
     "output_type": "execute_result"
    },
    {
     "data": {
      "image/png": "[encoded data removed]",
      "text/plain": [
       "<Figure size 432x288 with 1 Axes>"
      ]
     },
     "metadata": {
      "needs_background": "light"
     },
     "output_type": "display_data"
    }
   ],
   "source": [
    "# cases per population\n",
    "\n",
    "cases['pct_pop'] = cases.cases/pop\n",
    "\n",
    "# same, just different units \n",
    "cases.plot(x='date', y='pct_pop')"
   ]
  },
  {
   "cell_type": "markdown",
   "metadata": {},
   "source": [
    "###### Masks dataset"
   ]
  },
  {
   "cell_type": "code",
   "execution_count": 12,
   "metadata": {},
   "outputs": [
    {
     "ename": "NameError",
     "evalue": "name 'mask_df' is not defined",
     "output_type": "error",
     "traceback": [
      "\u001b[1;31m------------------------------------------------------------------------\u001b[0m",
      "\u001b[1;31mNameError\u001b[0m                              Traceback (most recent call last)",
      "\u001b[1;32m<ipython-input-12-d9112ec505b2>\u001b[0m in \u001b[0;36m<module>\u001b[1;34m\u001b[0m\n\u001b[0;32m      1\u001b[0m \u001b[1;31m# look at data types\u001b[0m\u001b[1;33m\u001b[0m\u001b[1;33m\u001b[0m\u001b[1;33m\u001b[0m\u001b[0m\n\u001b[0;32m      2\u001b[0m \u001b[1;33m\u001b[0m\u001b[0m\n\u001b[1;32m----> 3\u001b[1;33m \u001b[1;32mfor\u001b[0m \u001b[0mcol\u001b[0m \u001b[1;32min\u001b[0m \u001b[0mmask_df\u001b[0m\u001b[1;33m.\u001b[0m\u001b[0mcolumns\u001b[0m\u001b[1;33m:\u001b[0m\u001b[1;33m\u001b[0m\u001b[1;33m\u001b[0m\u001b[0m\n\u001b[0m\u001b[0;32m      4\u001b[0m     \u001b[0mprint\u001b[0m\u001b[1;33m(\u001b[0m\u001b[1;34m'Data type for column {} is {}'\u001b[0m\u001b[1;33m.\u001b[0m\u001b[0mformat\u001b[0m\u001b[1;33m(\u001b[0m\u001b[0mcol\u001b[0m\u001b[1;33m,\u001b[0m \u001b[0mtype\u001b[0m\u001b[1;33m(\u001b[0m\u001b[0mmask_df\u001b[0m\u001b[1;33m[\u001b[0m\u001b[0mcol\u001b[0m\u001b[1;33m]\u001b[0m\u001b[1;33m[\u001b[0m\u001b[1;36m0\u001b[0m\u001b[1;33m]\u001b[0m\u001b[1;33m)\u001b[0m\u001b[1;33m)\u001b[0m\u001b[1;33m)\u001b[0m\u001b[1;33m\u001b[0m\u001b[1;33m\u001b[0m\u001b[0m\n",
      "\u001b[1;31mNameError\u001b[0m: name 'mask_df' is not defined"
     ]
    }
   ],
   "source": [
    "# look at data types\n",
    "\n",
    "for col in mask_df.columns:\n",
    "    print('Data type for column {} is {}'.format(col, type(mask_df[col][0])))"
   ]
  },
  {
   "cell_type": "code",
   "execution_count": null,
   "metadata": {},
   "outputs": [],
   "source": [
    "# convert data types\n",
    "# dates to datetime\n",
    "# order_code to int\n",
    "\n",
    "masks_df.date = pd.to_datetime(masks_df.date)\n",
    "masks_df.order_code = masks_df.order_code.astype(int)"
   ]
  },
  {
   "cell_type": "code",
   "execution_count": null,
   "metadata": {},
   "outputs": [],
   "source": [
    "# quick visualization\n",
    "\n",
    "masks_df.plot(x='date', y='order_code')"
   ]
  },
  {
   "cell_type": "markdown",
   "metadata": {},
   "source": [
    "##### Mask compliance dataset"
   ]
  },
  {
   "cell_type": "code",
   "execution_count": null,
   "metadata": {},
   "outputs": [],
   "source": [
    "# also setup as columns --> transpose to show each entry as rows\n",
    "# also show as magnitude \n",
    "\n",
    "mask_comp = compliance_filter.drop(columns=['COUNTYFP']).T.reset_index().rename(columns={'index':'response',0:'pct_pop'})\n",
    "mask_comp['pop'] = mask_comp.pct_pop * pop\n",
    "\n",
    "mask_comp"
   ]
  },
  {
   "cell_type": "markdown",
   "metadata": {},
   "source": [
    "###### Merging datasets"
   ]
  },
  {
   "cell_type": "code",
   "execution_count": null,
   "metadata": {},
   "outputs": [],
   "source": [
    "# helper function\n",
    "\n",
    "def case_per_pop(df, subset):\n",
    "    \"\"\"\n",
    "    Helper function to join mask compliance population % with cases dataset\n",
    "    df: pd.DataFrame\n",
    "        Cases dataframe\n",
    "    subset: str\n",
    "        String of mask compliance category\n",
    "    Returns: new pd.DataFrame with columns added for population given mask compliance response\n",
    "    \"\"\"\n",
    "    \n",
    "    subset_pop = mask_comp.loc[mask_comp.response==subset]['pop'].values[0]\n",
    "    df[subset.lower()] = subset_pop\n",
    "    \n",
    "    return df"
   ]
  },
  {
   "cell_type": "code",
   "execution_count": null,
   "metadata": {},
   "outputs": [],
   "source": [
    "# apply helper function- populate columns with mask compliance population\n",
    "\n",
    "cases_mask = cases.copy()\n",
    "\n",
    "for resp in mask_comp.response:\n",
    "    cases_mask = case_per_pop(cases_mask, resp)"
   ]
  },
  {
   "cell_type": "code",
   "execution_count": null,
   "metadata": {},
   "outputs": [],
   "source": [
    "# additional merge- merge case + compliance with mask order code\n",
    "\n",
    "cases_merge = cases_mask.merge(masks_df[['order_code', 'date']], on='date')"
   ]
  },
  {
   "cell_type": "markdown",
   "metadata": {},
   "source": [
    "##### Getting daily cases"
   ]
  },
  {
   "cell_type": "code",
   "execution_count": null,
   "metadata": {},
   "outputs": [],
   "source": [
    "# get daily cases- daily difference between total cases\n",
    "\n",
    "cases_merge['daily_cases'] = cases_merge.cases - cases_merge.cases.shift(1)"
   ]
  },
  {
   "cell_type": "code",
   "execution_count": null,
   "metadata": {},
   "outputs": [],
   "source": [
    "# quick visualization\n",
    "\n",
    "cases_merge.plot(x='date', y='daily_cases')"
   ]
  },
  {
   "cell_type": "markdown",
   "metadata": {},
   "source": [
    "###### Get rolling average"
   ]
  },
  {
   "cell_type": "code",
   "execution_count": null,
   "metadata": {},
   "outputs": [],
   "source": [
    "# Helper function\n",
    "\n",
    "def get_rolling_avg(df, days):\n",
    "    \n",
    "    col_name = 'rolling_avg_' + str(days)\n",
    "    df[col_name] = df.daily_cases.rolling(days).mean()\n",
    "    \n",
    "    return df"
   ]
  },
  {
   "cell_type": "code",
   "execution_count": null,
   "metadata": {},
   "outputs": [],
   "source": [
    "# get rolling average- 7 day\n",
    "\n",
    "cases_merge = get_rolling_avg(cases_merge, 7)\n",
    "\n",
    "# get rolling average- 14 day\n",
    "\n",
    "cases_merge = get_rolling_avg(cases_merge, 14)"
   ]
  },
  {
   "cell_type": "code",
   "execution_count": null,
   "metadata": {},
   "outputs": [],
   "source": [
    "# quick visualization - 7 day\n",
    "\n",
    "cases_merge.plot(x='date', y='rolling_avg_7')"
   ]
  },
  {
   "cell_type": "code",
   "execution_count": null,
   "metadata": {},
   "outputs": [],
   "source": [
    "# quick visualization - 14 day\n",
    "\n",
    "cases_merge.plot(x='date', y='rolling_avg_14')"
   ]
  },
  {
   "cell_type": "markdown",
   "metadata": {},
   "source": [
    "##### Getting change in daily cases"
   ]
  },
  {
   "cell_type": "code",
   "execution_count": null,
   "metadata": {},
   "outputs": [],
   "source": [
    "# helper function\n",
    "\n",
    "def get_pct_chg(df, days):\n",
    "    \n",
    "    col_name = 'pct_chg_' + str(days) + 'D_avg'\n",
    "    pct_col = 'rolling_avg_' + str(days)\n",
    "    df[col_name] = df[pct_col].pct_change(1)\n",
    "    \n",
    "    return df"
   ]
  },
  {
   "cell_type": "code",
   "execution_count": null,
   "metadata": {},
   "outputs": [],
   "source": [
    "# get pct change- 7 days RA\n",
    "\n",
    "cases_merge = get_pct_chg(cases_merge, 7)\n",
    "\n",
    "# get pct change- 14 days RA\n",
    "\n",
    "cases_merge = get_pct_chg(cases_merge, 14)\n",
    "\n",
    "# get pct change- daily \n",
    "\n",
    "cases_merge['pct_chg_daily'] = cases_merge.daily_cases.pct_change(1)"
   ]
  },
  {
   "cell_type": "code",
   "execution_count": null,
   "metadata": {},
   "outputs": [],
   "source": [
    "# quick visualization 7D pct chg\n",
    "\n",
    "cases_merge.plot(x='date', y='pct_chg_7D_avg')"
   ]
  },
  {
   "cell_type": "code",
   "execution_count": null,
   "metadata": {},
   "outputs": [],
   "source": [
    "# quick visualization 14D pct chg\n",
    "\n",
    "cases_merge.plot(x='date', y='pct_chg_14D_avg')"
   ]
  },
  {
   "cell_type": "code",
   "execution_count": null,
   "metadata": {},
   "outputs": [],
   "source": [
    "# quick visualization daily pct chg\n",
    "\n",
    "cases_merge.plot(x='date', y='pct_chg_daily')"
   ]
  },
  {
   "cell_type": "code",
   "execution_count": null,
   "metadata": {},
   "outputs": [],
   "source": [
    "# recap- what do we have so far\n",
    "\n",
    "cases_merge.head()"
   ]
  },
  {
   "cell_type": "markdown",
   "metadata": {},
   "source": [
    "## Step 2: Visualize"
   ]
  },
  {
   "cell_type": "markdown",
   "metadata": {},
   "source": [
    "In this step we want you to create a graph that visualizes how the course of the disease was changed by masking policies. For your county, you should create a time series showing the changes in the derivative function of the rate of infection. Your graph should indicate days where masking policies were in effect (or not) and whether the difference in the derivative function was significant. Optionally, you can add a second time series that shows the actual rate of infection.  "
   ]
  },
  {
   "cell_type": "code",
   "execution_count": null,
   "metadata": {},
   "outputs": [],
   "source": [
    "# helper function- get masked array\n",
    "\n",
    "def get_ma(var, order):\n",
    "    return np.ma.masked_where(cases_merge.order_code==order, cases_merge[var])"
   ]
  },
  {
   "cell_type": "code",
   "execution_count": null,
   "metadata": {},
   "outputs": [],
   "source": [
    "# get masked arrays (for different masking orders)\n",
    "\n",
    "daily_mask = get_ma('daily_cases', 2)\n",
    "daily_no_mask = get_ma('daily_cases', 1)\n",
    "total_mask = get_ma('cases', 2)\n",
    "total_no_mask = get_ma('cases', 1)\n",
    "roll7_avg_mask = get_ma('rolling_avg_7', 2)\n",
    "roll7_avg_no_mask = get_ma('rolling_avg_7', 1)\n",
    "roll14_avg_mask = get_ma('rolling_avg_14', 2)\n",
    "roll14_avg_no_mask = get_ma('rolling_avg_14', 1)"
   ]
  },
  {
   "cell_type": "code",
   "execution_count": null,
   "metadata": {},
   "outputs": [],
   "source": [
    "fig = plt.figure(figsize=(20, 10), facecolor='white')\n",
    "ax = fig.add_subplot()\n",
    "\n",
    "ax.set_title('Daily COVID19 Cases in Montegomery County, MD \\nFeb 1 2020 - Oct 15 2021')\n",
    "\n",
    "\n",
    "# plot daily cases\n",
    "ax.bar(cases_merge.date, daily_mask, alpha=0.8, linewidth=2, color='grey',\n",
    "        label='Daily Cases-Mask Mandate (LHS)')\n",
    "ax.bar(cases_merge.date, daily_no_mask, alpha=0.5, color='grey', label='Daily Cases-No Mask Mandate (LHS)')\n",
    "\n",
    "# plot rolling avg 7D\n",
    "ax.plot(cases_merge.date, roll7_avg_mask, alpha=0.8, linewidth=2, color='crimson', \n",
    "        label='7D Rolling Avg of Cases-Mask Mandate (LHS)')\n",
    "ax.plot(cases_merge.date, roll7_avg_no_mask, alpha=0.5, color='crimson', linestyle='dashed',\n",
    "        label='7D Rolling Avg of Cases-No Mask Mandate (LHS)')\n",
    "\n",
    "# plot rolling avg 14D\n",
    "ax.plot(cases_merge.date, roll14_avg_mask, alpha=0.8, linewidth=2, color='darkblue', \n",
    "        label='14D Rolling Avg of Cases-Mask Mandate (LHS)')\n",
    "ax.plot(cases_merge.date, roll14_avg_no_mask, alpha=0.5, color='darkblue', linestyle='dashed',\n",
    "        label='14D Rolling Avg of Cases-No Mask Mandate (LHS)')\n",
    "\n",
    "# set labels\n",
    "ax.set_xlabel('Date')\n",
    "ax.set_ylabel('Number of Positive Cases')\n",
    "plt.legend(loc='upper left')\n",
    "\n",
    "ax2 = ax.twinx()\n",
    "ax2.plot(cases_merge.date, total_mask, c='darkgreen', alpha=0.6, linewidth=5, label='Total Cases-Mask Mandate (RHS)')\n",
    "ax2.plot(cases_merge.date, total_no_mask, c='darkgreen', alpha=0.3, linewidth=3, \n",
    "         linestyle='dashed', label='Total Cases-No Mask Mandate (RHS)')\n",
    "ax2.set_ylabel('Number of Positive Cases')\n",
    "\n",
    "#ax.fill_between(cases_merge.date, np.nanmin(cases_merge.daily_cases), np.nanmax(cases_merge.daily_cases), \n",
    "#               where=cases_merge.order_code==1, color='blue', alpha=0.3)\n",
    "\n",
    "plt.legend(loc='upper right')\n",
    "\n",
    "plt.savefig('visualization/plot.png', facecolor=fig.get_facecolor(), bbox_inches='tight')"
   ]
  }
 ],
 "metadata": {
  "kernelspec": {
   "display_name": "Python 3",
   "language": "python",
   "name": "python3"
  },
  "language_info": {
   "codemirror_mode": {
    "name": "ipython",
    "version": 3
   },
   "file_extension": ".py",
   "mimetype": "text/x-python",
   "name": "python",
   "nbconvert_exporter": "python",
   "pygments_lexer": "ipython3",
   "version": "3.8.5"
  }
 },
 "nbformat": 4,
 "nbformat_minor": 4
}
